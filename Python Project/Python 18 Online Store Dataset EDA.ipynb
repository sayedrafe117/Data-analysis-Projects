{
 "cells": [
  {
   "cell_type": "markdown",
   "id": "e732b729",
   "metadata": {},
   "source": [
    "#### Tabel of Content\n",
    "1. Importing Libraries\n",
    "2. Data Cleaning\n",
    "3. Missing Values\n",
    "4. Duplicates\n",
    "5. Analyzing Ship Modes\n",
    "6. Analyzing Segments\n",
    "7. Analyzing Categories\n",
    "8. Analyzing Sub Categories\n",
    "9. Analyzing Discounts\n",
    "10. Analyzing Products\n",
    "11. Analyzing Coustomers\n",
    "12. Conclusion"
   ]
  },
  {
   "cell_type": "code",
   "execution_count": 1,
   "id": "d23b5771",
   "metadata": {},
   "outputs": [],
   "source": [
    "#Import liabries\n",
    "import pandas as pd\n",
    "import seaborn as sns\n",
    "import numpy as np\n",
    "import matplotlib.pyplot as plt\n",
    "%matplotlib inline"
   ]
  },
  {
   "cell_type": "code",
   "execution_count": 2,
   "id": "921ecf06",
   "metadata": {},
   "outputs": [
    {
     "data": {
      "text/html": [
       "<div>\n",
       "<style scoped>\n",
       "    .dataframe tbody tr th:only-of-type {\n",
       "        vertical-align: middle;\n",
       "    }\n",
       "\n",
       "    .dataframe tbody tr th {\n",
       "        vertical-align: top;\n",
       "    }\n",
       "\n",
       "    .dataframe thead th {\n",
       "        text-align: right;\n",
       "    }\n",
       "</style>\n",
       "<table border=\"1\" class=\"dataframe\">\n",
       "  <thead>\n",
       "    <tr style=\"text-align: right;\">\n",
       "      <th></th>\n",
       "      <th>Ship Mode</th>\n",
       "      <th>Customer ID</th>\n",
       "      <th>Customer Name</th>\n",
       "      <th>Segment</th>\n",
       "      <th>Country</th>\n",
       "      <th>City</th>\n",
       "      <th>State</th>\n",
       "      <th>Postal Code</th>\n",
       "      <th>Region</th>\n",
       "      <th>Product ID</th>\n",
       "      <th>Category</th>\n",
       "      <th>Sub-Category</th>\n",
       "      <th>Product Name</th>\n",
       "      <th>Sales</th>\n",
       "      <th>Quantity</th>\n",
       "      <th>Discount</th>\n",
       "      <th>Profit</th>\n",
       "      <th>Unnamed: 17</th>\n",
       "    </tr>\n",
       "  </thead>\n",
       "  <tbody>\n",
       "    <tr>\n",
       "      <th>0</th>\n",
       "      <td>Second Class</td>\n",
       "      <td>CG-12520</td>\n",
       "      <td>Claire Gute</td>\n",
       "      <td>Consumer</td>\n",
       "      <td>United States</td>\n",
       "      <td>Henderson</td>\n",
       "      <td>Kentucky</td>\n",
       "      <td>42420</td>\n",
       "      <td>South</td>\n",
       "      <td>FUR-BO-10001798</td>\n",
       "      <td>Furniture</td>\n",
       "      <td>Bookcases</td>\n",
       "      <td>Bush Somerset Collection Bookcase</td>\n",
       "      <td>261.9600</td>\n",
       "      <td>2</td>\n",
       "      <td>0.00</td>\n",
       "      <td>41.9136</td>\n",
       "      <td>NaN</td>\n",
       "    </tr>\n",
       "    <tr>\n",
       "      <th>1</th>\n",
       "      <td>Second Class</td>\n",
       "      <td>CG-12520</td>\n",
       "      <td>Claire Gute</td>\n",
       "      <td>Consumer</td>\n",
       "      <td>United States</td>\n",
       "      <td>Henderson</td>\n",
       "      <td>Kentucky</td>\n",
       "      <td>42420</td>\n",
       "      <td>South</td>\n",
       "      <td>FUR-CH-10000454</td>\n",
       "      <td>Furniture</td>\n",
       "      <td>Chairs</td>\n",
       "      <td>Hon Deluxe Fabric Upholstered Stacking Chairs,...</td>\n",
       "      <td>731.9400</td>\n",
       "      <td>3</td>\n",
       "      <td>0.00</td>\n",
       "      <td>219.5820</td>\n",
       "      <td>NaN</td>\n",
       "    </tr>\n",
       "    <tr>\n",
       "      <th>2</th>\n",
       "      <td>Second Class</td>\n",
       "      <td>DV-13045</td>\n",
       "      <td>Darrin Van Huff</td>\n",
       "      <td>Corporate</td>\n",
       "      <td>United States</td>\n",
       "      <td>Los Angeles</td>\n",
       "      <td>California</td>\n",
       "      <td>90036</td>\n",
       "      <td>West</td>\n",
       "      <td>OFF-LA-10000240</td>\n",
       "      <td>Office Supplies</td>\n",
       "      <td>Labels</td>\n",
       "      <td>Self-Adhesive Address Labels for Typewriters b...</td>\n",
       "      <td>14.6200</td>\n",
       "      <td>2</td>\n",
       "      <td>0.00</td>\n",
       "      <td>6.8714</td>\n",
       "      <td>NaN</td>\n",
       "    </tr>\n",
       "    <tr>\n",
       "      <th>3</th>\n",
       "      <td>Standard Class</td>\n",
       "      <td>SO-20335</td>\n",
       "      <td>Sean O'Donnell</td>\n",
       "      <td>Consumer</td>\n",
       "      <td>United States</td>\n",
       "      <td>Fort Lauderdale</td>\n",
       "      <td>Florida</td>\n",
       "      <td>33311</td>\n",
       "      <td>South</td>\n",
       "      <td>FUR-TA-10000577</td>\n",
       "      <td>Furniture</td>\n",
       "      <td>Tables</td>\n",
       "      <td>Bretford CR4500 Series Slim Rectangular Table</td>\n",
       "      <td>957.5775</td>\n",
       "      <td>5</td>\n",
       "      <td>0.45</td>\n",
       "      <td>-383.0310</td>\n",
       "      <td>NaN</td>\n",
       "    </tr>\n",
       "    <tr>\n",
       "      <th>4</th>\n",
       "      <td>Standard Class</td>\n",
       "      <td>SO-20335</td>\n",
       "      <td>Sean O'Donnell</td>\n",
       "      <td>Consumer</td>\n",
       "      <td>United States</td>\n",
       "      <td>Fort Lauderdale</td>\n",
       "      <td>Florida</td>\n",
       "      <td>33311</td>\n",
       "      <td>South</td>\n",
       "      <td>OFF-ST-10000760</td>\n",
       "      <td>Office Supplies</td>\n",
       "      <td>Storage</td>\n",
       "      <td>Eldon Fold 'N Roll Cart System</td>\n",
       "      <td>22.3680</td>\n",
       "      <td>2</td>\n",
       "      <td>0.20</td>\n",
       "      <td>2.5164</td>\n",
       "      <td>NaN</td>\n",
       "    </tr>\n",
       "    <tr>\n",
       "      <th>...</th>\n",
       "      <td>...</td>\n",
       "      <td>...</td>\n",
       "      <td>...</td>\n",
       "      <td>...</td>\n",
       "      <td>...</td>\n",
       "      <td>...</td>\n",
       "      <td>...</td>\n",
       "      <td>...</td>\n",
       "      <td>...</td>\n",
       "      <td>...</td>\n",
       "      <td>...</td>\n",
       "      <td>...</td>\n",
       "      <td>...</td>\n",
       "      <td>...</td>\n",
       "      <td>...</td>\n",
       "      <td>...</td>\n",
       "      <td>...</td>\n",
       "      <td>...</td>\n",
       "    </tr>\n",
       "    <tr>\n",
       "      <th>9989</th>\n",
       "      <td>Second Class</td>\n",
       "      <td>TB-21400</td>\n",
       "      <td>Tom Boeckenhauer</td>\n",
       "      <td>Consumer</td>\n",
       "      <td>United States</td>\n",
       "      <td>Miami</td>\n",
       "      <td>Florida</td>\n",
       "      <td>33180</td>\n",
       "      <td>South</td>\n",
       "      <td>FUR-FU-10001889</td>\n",
       "      <td>Furniture</td>\n",
       "      <td>Furnishings</td>\n",
       "      <td>Ultra Door Pull Handle</td>\n",
       "      <td>25.2480</td>\n",
       "      <td>3</td>\n",
       "      <td>0.20</td>\n",
       "      <td>4.1028</td>\n",
       "      <td>NaN</td>\n",
       "    </tr>\n",
       "    <tr>\n",
       "      <th>9990</th>\n",
       "      <td>Standard Class</td>\n",
       "      <td>DB-13060</td>\n",
       "      <td>Dave Brooks</td>\n",
       "      <td>Consumer</td>\n",
       "      <td>United States</td>\n",
       "      <td>Costa Mesa</td>\n",
       "      <td>California</td>\n",
       "      <td>92627</td>\n",
       "      <td>West</td>\n",
       "      <td>FUR-FU-10000747</td>\n",
       "      <td>Furniture</td>\n",
       "      <td>Furnishings</td>\n",
       "      <td>Tenex B1-RE Series Chair Mats for Low Pile Car...</td>\n",
       "      <td>91.9600</td>\n",
       "      <td>2</td>\n",
       "      <td>0.00</td>\n",
       "      <td>15.6332</td>\n",
       "      <td>NaN</td>\n",
       "    </tr>\n",
       "    <tr>\n",
       "      <th>9991</th>\n",
       "      <td>Standard Class</td>\n",
       "      <td>DB-13060</td>\n",
       "      <td>Dave Brooks</td>\n",
       "      <td>Consumer</td>\n",
       "      <td>United States</td>\n",
       "      <td>Costa Mesa</td>\n",
       "      <td>California</td>\n",
       "      <td>92627</td>\n",
       "      <td>West</td>\n",
       "      <td>TEC-PH-10003645</td>\n",
       "      <td>Technology</td>\n",
       "      <td>Phones</td>\n",
       "      <td>Aastra 57i VoIP phone</td>\n",
       "      <td>258.5760</td>\n",
       "      <td>2</td>\n",
       "      <td>0.20</td>\n",
       "      <td>19.3932</td>\n",
       "      <td>NaN</td>\n",
       "    </tr>\n",
       "    <tr>\n",
       "      <th>9992</th>\n",
       "      <td>Standard Class</td>\n",
       "      <td>DB-13060</td>\n",
       "      <td>Dave Brooks</td>\n",
       "      <td>Consumer</td>\n",
       "      <td>United States</td>\n",
       "      <td>Costa Mesa</td>\n",
       "      <td>California</td>\n",
       "      <td>92627</td>\n",
       "      <td>West</td>\n",
       "      <td>OFF-PA-10004041</td>\n",
       "      <td>Office Supplies</td>\n",
       "      <td>Paper</td>\n",
       "      <td>It's Hot Message Books with Stickers, 2 3/4\" x 5\"</td>\n",
       "      <td>29.6000</td>\n",
       "      <td>4</td>\n",
       "      <td>0.00</td>\n",
       "      <td>13.3200</td>\n",
       "      <td>NaN</td>\n",
       "    </tr>\n",
       "    <tr>\n",
       "      <th>9993</th>\n",
       "      <td>Second Class</td>\n",
       "      <td>CC-12220</td>\n",
       "      <td>Chris Cortes</td>\n",
       "      <td>Consumer</td>\n",
       "      <td>United States</td>\n",
       "      <td>Westminster</td>\n",
       "      <td>California</td>\n",
       "      <td>92683</td>\n",
       "      <td>West</td>\n",
       "      <td>OFF-AP-10002684</td>\n",
       "      <td>Office Supplies</td>\n",
       "      <td>Appliances</td>\n",
       "      <td>Acco 7-Outlet Masterpiece Power Center, Wihtou...</td>\n",
       "      <td>243.1600</td>\n",
       "      <td>2</td>\n",
       "      <td>0.00</td>\n",
       "      <td>72.9480</td>\n",
       "      <td>NaN</td>\n",
       "    </tr>\n",
       "  </tbody>\n",
       "</table>\n",
       "<p>9994 rows × 18 columns</p>\n",
       "</div>"
      ],
      "text/plain": [
       "           Ship Mode Customer ID     Customer Name    Segment        Country  \\\n",
       "0       Second Class    CG-12520       Claire Gute   Consumer  United States   \n",
       "1       Second Class    CG-12520       Claire Gute   Consumer  United States   \n",
       "2       Second Class    DV-13045   Darrin Van Huff  Corporate  United States   \n",
       "3     Standard Class    SO-20335    Sean O'Donnell   Consumer  United States   \n",
       "4     Standard Class    SO-20335    Sean O'Donnell   Consumer  United States   \n",
       "...              ...         ...               ...        ...            ...   \n",
       "9989    Second Class    TB-21400  Tom Boeckenhauer   Consumer  United States   \n",
       "9990  Standard Class    DB-13060       Dave Brooks   Consumer  United States   \n",
       "9991  Standard Class    DB-13060       Dave Brooks   Consumer  United States   \n",
       "9992  Standard Class    DB-13060       Dave Brooks   Consumer  United States   \n",
       "9993    Second Class    CC-12220      Chris Cortes   Consumer  United States   \n",
       "\n",
       "                 City       State  Postal Code Region       Product ID  \\\n",
       "0           Henderson    Kentucky        42420  South  FUR-BO-10001798   \n",
       "1           Henderson    Kentucky        42420  South  FUR-CH-10000454   \n",
       "2         Los Angeles  California        90036   West  OFF-LA-10000240   \n",
       "3     Fort Lauderdale     Florida        33311  South  FUR-TA-10000577   \n",
       "4     Fort Lauderdale     Florida        33311  South  OFF-ST-10000760   \n",
       "...               ...         ...          ...    ...              ...   \n",
       "9989            Miami     Florida        33180  South  FUR-FU-10001889   \n",
       "9990       Costa Mesa  California        92627   West  FUR-FU-10000747   \n",
       "9991       Costa Mesa  California        92627   West  TEC-PH-10003645   \n",
       "9992       Costa Mesa  California        92627   West  OFF-PA-10004041   \n",
       "9993      Westminster  California        92683   West  OFF-AP-10002684   \n",
       "\n",
       "             Category Sub-Category  \\\n",
       "0           Furniture    Bookcases   \n",
       "1           Furniture       Chairs   \n",
       "2     Office Supplies       Labels   \n",
       "3           Furniture       Tables   \n",
       "4     Office Supplies      Storage   \n",
       "...               ...          ...   \n",
       "9989        Furniture  Furnishings   \n",
       "9990        Furniture  Furnishings   \n",
       "9991       Technology       Phones   \n",
       "9992  Office Supplies        Paper   \n",
       "9993  Office Supplies   Appliances   \n",
       "\n",
       "                                           Product Name     Sales  Quantity  \\\n",
       "0                     Bush Somerset Collection Bookcase  261.9600         2   \n",
       "1     Hon Deluxe Fabric Upholstered Stacking Chairs,...  731.9400         3   \n",
       "2     Self-Adhesive Address Labels for Typewriters b...   14.6200         2   \n",
       "3         Bretford CR4500 Series Slim Rectangular Table  957.5775         5   \n",
       "4                        Eldon Fold 'N Roll Cart System   22.3680         2   \n",
       "...                                                 ...       ...       ...   \n",
       "9989                             Ultra Door Pull Handle   25.2480         3   \n",
       "9990  Tenex B1-RE Series Chair Mats for Low Pile Car...   91.9600         2   \n",
       "9991                              Aastra 57i VoIP phone  258.5760         2   \n",
       "9992  It's Hot Message Books with Stickers, 2 3/4\" x 5\"   29.6000         4   \n",
       "9993  Acco 7-Outlet Masterpiece Power Center, Wihtou...  243.1600         2   \n",
       "\n",
       "      Discount    Profit  Unnamed: 17  \n",
       "0         0.00   41.9136          NaN  \n",
       "1         0.00  219.5820          NaN  \n",
       "2         0.00    6.8714          NaN  \n",
       "3         0.45 -383.0310          NaN  \n",
       "4         0.20    2.5164          NaN  \n",
       "...        ...       ...          ...  \n",
       "9989      0.20    4.1028          NaN  \n",
       "9990      0.00   15.6332          NaN  \n",
       "9991      0.20   19.3932          NaN  \n",
       "9992      0.00   13.3200          NaN  \n",
       "9993      0.00   72.9480          NaN  \n",
       "\n",
       "[9994 rows x 18 columns]"
      ]
     },
     "execution_count": 2,
     "metadata": {},
     "output_type": "execute_result"
    }
   ],
   "source": [
    "df=pd.read_csv('Desktop/SuperstoreDataset.csv')\n",
    "df"
   ]
  },
  {
   "cell_type": "code",
   "execution_count": 3,
   "id": "b43f0f98",
   "metadata": {},
   "outputs": [],
   "source": [
    "#Dropping the unnecessary column\n",
    "df=df.drop('Unnamed: 17',axis=1)"
   ]
  },
  {
   "cell_type": "code",
   "execution_count": 4,
   "id": "f0617570",
   "metadata": {},
   "outputs": [
    {
     "data": {
      "text/plain": [
       "Index(['Ship Mode', 'Customer ID', 'Customer Name', 'Segment', 'Country',\n",
       "       'City', 'State', 'Postal Code', 'Region', 'Product ID', 'Category',\n",
       "       'Sub-Category', 'Product Name', 'Sales', 'Quantity', 'Discount',\n",
       "       'Profit'],\n",
       "      dtype='object')"
      ]
     },
     "execution_count": 4,
     "metadata": {},
     "output_type": "execute_result"
    }
   ],
   "source": [
    "df.columns"
   ]
  },
  {
   "cell_type": "markdown",
   "id": "da2a3de2",
   "metadata": {},
   "source": [
    "#### Data Cleaning\n",
    "Missing Values"
   ]
  },
  {
   "cell_type": "code",
   "execution_count": 5,
   "id": "2e82b794",
   "metadata": {},
   "outputs": [
    {
     "name": "stdout",
     "output_type": "stream",
     "text": [
      "<class 'pandas.core.frame.DataFrame'>\n",
      "RangeIndex: 9994 entries, 0 to 9993\n",
      "Data columns (total 17 columns):\n",
      " #   Column         Non-Null Count  Dtype  \n",
      "---  ------         --------------  -----  \n",
      " 0   Ship Mode      9994 non-null   object \n",
      " 1   Customer ID    9994 non-null   object \n",
      " 2   Customer Name  9994 non-null   object \n",
      " 3   Segment        9994 non-null   object \n",
      " 4   Country        9994 non-null   object \n",
      " 5   City           9994 non-null   object \n",
      " 6   State          9994 non-null   object \n",
      " 7   Postal Code    9994 non-null   int64  \n",
      " 8   Region         9994 non-null   object \n",
      " 9   Product ID     9994 non-null   object \n",
      " 10  Category       9994 non-null   object \n",
      " 11  Sub-Category   9994 non-null   object \n",
      " 12  Product Name   9994 non-null   object \n",
      " 13  Sales          9994 non-null   float64\n",
      " 14  Quantity       9994 non-null   int64  \n",
      " 15  Discount       9994 non-null   float64\n",
      " 16  Profit         9994 non-null   float64\n",
      "dtypes: float64(3), int64(2), object(12)\n",
      "memory usage: 1.3+ MB\n"
     ]
    }
   ],
   "source": [
    "df.info()"
   ]
  },
  {
   "cell_type": "markdown",
   "id": "d3a7665c",
   "metadata": {},
   "source": [
    "#### Number of unique values in each column"
   ]
  },
  {
   "cell_type": "code",
   "execution_count": 6,
   "id": "3615deda",
   "metadata": {},
   "outputs": [
    {
     "data": {
      "text/plain": [
       "Ship Mode           4\n",
       "Customer ID       793\n",
       "Customer Name     793\n",
       "Segment             3\n",
       "Country             1\n",
       "City              531\n",
       "State              49\n",
       "Postal Code       631\n",
       "Region              4\n",
       "Product ID       1862\n",
       "Category            3\n",
       "Sub-Category       17\n",
       "Product Name     1850\n",
       "Sales            5825\n",
       "Quantity           14\n",
       "Discount           12\n",
       "Profit           7287\n",
       "dtype: int64"
      ]
     },
     "execution_count": 6,
     "metadata": {},
     "output_type": "execute_result"
    }
   ],
   "source": [
    "df.nunique()"
   ]
  },
  {
   "cell_type": "markdown",
   "id": "4ee16232",
   "metadata": {},
   "source": [
    "#### Duplicates"
   ]
  },
  {
   "cell_type": "code",
   "execution_count": 7,
   "id": "bb907487",
   "metadata": {},
   "outputs": [
    {
     "data": {
      "text/html": [
       "<div>\n",
       "<style scoped>\n",
       "    .dataframe tbody tr th:only-of-type {\n",
       "        vertical-align: middle;\n",
       "    }\n",
       "\n",
       "    .dataframe tbody tr th {\n",
       "        vertical-align: top;\n",
       "    }\n",
       "\n",
       "    .dataframe thead th {\n",
       "        text-align: right;\n",
       "    }\n",
       "</style>\n",
       "<table border=\"1\" class=\"dataframe\">\n",
       "  <thead>\n",
       "    <tr style=\"text-align: right;\">\n",
       "      <th></th>\n",
       "      <th>Ship Mode</th>\n",
       "      <th>Customer ID</th>\n",
       "      <th>Customer Name</th>\n",
       "      <th>Segment</th>\n",
       "      <th>Country</th>\n",
       "      <th>City</th>\n",
       "      <th>State</th>\n",
       "      <th>Postal Code</th>\n",
       "      <th>Region</th>\n",
       "      <th>Product ID</th>\n",
       "      <th>Category</th>\n",
       "      <th>Sub-Category</th>\n",
       "      <th>Product Name</th>\n",
       "      <th>Sales</th>\n",
       "      <th>Quantity</th>\n",
       "      <th>Discount</th>\n",
       "      <th>Profit</th>\n",
       "    </tr>\n",
       "  </thead>\n",
       "  <tbody>\n",
       "    <tr>\n",
       "      <th>3406</th>\n",
       "      <td>Standard Class</td>\n",
       "      <td>LB-16795</td>\n",
       "      <td>Laurel Beltran</td>\n",
       "      <td>Home Office</td>\n",
       "      <td>United States</td>\n",
       "      <td>Columbus</td>\n",
       "      <td>Ohio</td>\n",
       "      <td>43229</td>\n",
       "      <td>East</td>\n",
       "      <td>FUR-CH-10002965</td>\n",
       "      <td>Furniture</td>\n",
       "      <td>Chairs</td>\n",
       "      <td>Global Leather Highback Executive Chair with P...</td>\n",
       "      <td>281.372</td>\n",
       "      <td>2</td>\n",
       "      <td>0.3</td>\n",
       "      <td>-12.0588</td>\n",
       "    </tr>\n",
       "  </tbody>\n",
       "</table>\n",
       "</div>"
      ],
      "text/plain": [
       "           Ship Mode Customer ID   Customer Name      Segment        Country  \\\n",
       "3406  Standard Class    LB-16795  Laurel Beltran  Home Office  United States   \n",
       "\n",
       "          City State  Postal Code Region       Product ID   Category  \\\n",
       "3406  Columbus  Ohio        43229   East  FUR-CH-10002965  Furniture   \n",
       "\n",
       "     Sub-Category                                       Product Name    Sales  \\\n",
       "3406       Chairs  Global Leather Highback Executive Chair with P...  281.372   \n",
       "\n",
       "      Quantity  Discount   Profit  \n",
       "3406         2       0.3 -12.0588  "
      ]
     },
     "execution_count": 7,
     "metadata": {},
     "output_type": "execute_result"
    }
   ],
   "source": [
    "df[df.duplicated()]"
   ]
  },
  {
   "cell_type": "code",
   "execution_count": 8,
   "id": "4c0b6ad3",
   "metadata": {},
   "outputs": [
    {
     "data": {
      "text/html": [
       "<div>\n",
       "<style scoped>\n",
       "    .dataframe tbody tr th:only-of-type {\n",
       "        vertical-align: middle;\n",
       "    }\n",
       "\n",
       "    .dataframe tbody tr th {\n",
       "        vertical-align: top;\n",
       "    }\n",
       "\n",
       "    .dataframe thead th {\n",
       "        text-align: right;\n",
       "    }\n",
       "</style>\n",
       "<table border=\"1\" class=\"dataframe\">\n",
       "  <thead>\n",
       "    <tr style=\"text-align: right;\">\n",
       "      <th></th>\n",
       "      <th>Ship Mode</th>\n",
       "      <th>Customer ID</th>\n",
       "      <th>Customer Name</th>\n",
       "      <th>Segment</th>\n",
       "      <th>Country</th>\n",
       "      <th>City</th>\n",
       "      <th>State</th>\n",
       "      <th>Postal Code</th>\n",
       "      <th>Region</th>\n",
       "      <th>Product ID</th>\n",
       "      <th>Category</th>\n",
       "      <th>Sub-Category</th>\n",
       "      <th>Product Name</th>\n",
       "      <th>Sales</th>\n",
       "      <th>Quantity</th>\n",
       "      <th>Discount</th>\n",
       "      <th>Profit</th>\n",
       "    </tr>\n",
       "  </thead>\n",
       "  <tbody>\n",
       "    <tr>\n",
       "      <th>3405</th>\n",
       "      <td>Standard Class</td>\n",
       "      <td>LB-16795</td>\n",
       "      <td>Laurel Beltran</td>\n",
       "      <td>Home Office</td>\n",
       "      <td>United States</td>\n",
       "      <td>Columbus</td>\n",
       "      <td>Ohio</td>\n",
       "      <td>43229</td>\n",
       "      <td>East</td>\n",
       "      <td>FUR-CH-10002965</td>\n",
       "      <td>Furniture</td>\n",
       "      <td>Chairs</td>\n",
       "      <td>Global Leather Highback Executive Chair with P...</td>\n",
       "      <td>281.372</td>\n",
       "      <td>2</td>\n",
       "      <td>0.3</td>\n",
       "      <td>-12.0588</td>\n",
       "    </tr>\n",
       "    <tr>\n",
       "      <th>3406</th>\n",
       "      <td>Standard Class</td>\n",
       "      <td>LB-16795</td>\n",
       "      <td>Laurel Beltran</td>\n",
       "      <td>Home Office</td>\n",
       "      <td>United States</td>\n",
       "      <td>Columbus</td>\n",
       "      <td>Ohio</td>\n",
       "      <td>43229</td>\n",
       "      <td>East</td>\n",
       "      <td>FUR-CH-10002965</td>\n",
       "      <td>Furniture</td>\n",
       "      <td>Chairs</td>\n",
       "      <td>Global Leather Highback Executive Chair with P...</td>\n",
       "      <td>281.372</td>\n",
       "      <td>2</td>\n",
       "      <td>0.3</td>\n",
       "      <td>-12.0588</td>\n",
       "    </tr>\n",
       "    <tr>\n",
       "      <th>3407</th>\n",
       "      <td>Standard Class</td>\n",
       "      <td>LB-16795</td>\n",
       "      <td>Laurel Beltran</td>\n",
       "      <td>Home Office</td>\n",
       "      <td>United States</td>\n",
       "      <td>Columbus</td>\n",
       "      <td>Ohio</td>\n",
       "      <td>43229</td>\n",
       "      <td>East</td>\n",
       "      <td>OFF-BI-10000145</td>\n",
       "      <td>Office Supplies</td>\n",
       "      <td>Binders</td>\n",
       "      <td>Zipper Ring Binder Pockets</td>\n",
       "      <td>7.488</td>\n",
       "      <td>8</td>\n",
       "      <td>0.7</td>\n",
       "      <td>-5.2416</td>\n",
       "    </tr>\n",
       "  </tbody>\n",
       "</table>\n",
       "</div>"
      ],
      "text/plain": [
       "           Ship Mode Customer ID   Customer Name      Segment        Country  \\\n",
       "3405  Standard Class    LB-16795  Laurel Beltran  Home Office  United States   \n",
       "3406  Standard Class    LB-16795  Laurel Beltran  Home Office  United States   \n",
       "3407  Standard Class    LB-16795  Laurel Beltran  Home Office  United States   \n",
       "\n",
       "          City State  Postal Code Region       Product ID         Category  \\\n",
       "3405  Columbus  Ohio        43229   East  FUR-CH-10002965        Furniture   \n",
       "3406  Columbus  Ohio        43229   East  FUR-CH-10002965        Furniture   \n",
       "3407  Columbus  Ohio        43229   East  OFF-BI-10000145  Office Supplies   \n",
       "\n",
       "     Sub-Category                                       Product Name    Sales  \\\n",
       "3405       Chairs  Global Leather Highback Executive Chair with P...  281.372   \n",
       "3406       Chairs  Global Leather Highback Executive Chair with P...  281.372   \n",
       "3407      Binders                         Zipper Ring Binder Pockets    7.488   \n",
       "\n",
       "      Quantity  Discount   Profit  \n",
       "3405         2       0.3 -12.0588  \n",
       "3406         2       0.3 -12.0588  \n",
       "3407         8       0.7  -5.2416  "
      ]
     },
     "execution_count": 8,
     "metadata": {},
     "output_type": "execute_result"
    }
   ],
   "source": [
    "df.loc[3405:3407]"
   ]
  },
  {
   "cell_type": "markdown",
   "id": "8f753c58",
   "metadata": {},
   "source": [
    "####The code `df.loc[3405:3407]` is using the `loc` indexer to access a specific range of rows in the DataFrame 'df'. Let's break it down step by step:\n",
    "\n",
    "1. `df`: This is the DataFrame that is being accessed.\n",
    "\n",
    "2. `.loc[]`: The `loc` indexer is used to select data by label (index or column names) in a DataFrame. It allows you to specify rows and columns based on their labels rather than numerical positions.\n",
    "\n"
   ]
  },
  {
   "cell_type": "code",
   "execution_count": 9,
   "id": "5b254c79",
   "metadata": {},
   "outputs": [],
   "source": [
    "#Dropping the duplicate value\n",
    "df.drop_duplicates(inplace=True)"
   ]
  },
  {
   "cell_type": "code",
   "execution_count": 10,
   "id": "6ce6054f",
   "metadata": {},
   "outputs": [
    {
     "data": {
      "text/html": [
       "<div>\n",
       "<style scoped>\n",
       "    .dataframe tbody tr th:only-of-type {\n",
       "        vertical-align: middle;\n",
       "    }\n",
       "\n",
       "    .dataframe tbody tr th {\n",
       "        vertical-align: top;\n",
       "    }\n",
       "\n",
       "    .dataframe thead th {\n",
       "        text-align: right;\n",
       "    }\n",
       "</style>\n",
       "<table border=\"1\" class=\"dataframe\">\n",
       "  <thead>\n",
       "    <tr style=\"text-align: right;\">\n",
       "      <th></th>\n",
       "      <th>Ship Mode</th>\n",
       "      <th>Customer ID</th>\n",
       "      <th>Customer Name</th>\n",
       "      <th>Segment</th>\n",
       "      <th>Country</th>\n",
       "      <th>City</th>\n",
       "      <th>State</th>\n",
       "      <th>Postal Code</th>\n",
       "      <th>Region</th>\n",
       "      <th>Product ID</th>\n",
       "      <th>Category</th>\n",
       "      <th>Sub-Category</th>\n",
       "      <th>Product Name</th>\n",
       "      <th>Sales</th>\n",
       "      <th>Quantity</th>\n",
       "      <th>Discount</th>\n",
       "      <th>Profit</th>\n",
       "    </tr>\n",
       "  </thead>\n",
       "  <tbody>\n",
       "    <tr>\n",
       "      <th>3405</th>\n",
       "      <td>Standard Class</td>\n",
       "      <td>LB-16795</td>\n",
       "      <td>Laurel Beltran</td>\n",
       "      <td>Home Office</td>\n",
       "      <td>United States</td>\n",
       "      <td>Columbus</td>\n",
       "      <td>Ohio</td>\n",
       "      <td>43229</td>\n",
       "      <td>East</td>\n",
       "      <td>FUR-CH-10002965</td>\n",
       "      <td>Furniture</td>\n",
       "      <td>Chairs</td>\n",
       "      <td>Global Leather Highback Executive Chair with P...</td>\n",
       "      <td>281.372</td>\n",
       "      <td>2</td>\n",
       "      <td>0.3</td>\n",
       "      <td>-12.0588</td>\n",
       "    </tr>\n",
       "    <tr>\n",
       "      <th>3407</th>\n",
       "      <td>Standard Class</td>\n",
       "      <td>LB-16795</td>\n",
       "      <td>Laurel Beltran</td>\n",
       "      <td>Home Office</td>\n",
       "      <td>United States</td>\n",
       "      <td>Columbus</td>\n",
       "      <td>Ohio</td>\n",
       "      <td>43229</td>\n",
       "      <td>East</td>\n",
       "      <td>OFF-BI-10000145</td>\n",
       "      <td>Office Supplies</td>\n",
       "      <td>Binders</td>\n",
       "      <td>Zipper Ring Binder Pockets</td>\n",
       "      <td>7.488</td>\n",
       "      <td>8</td>\n",
       "      <td>0.7</td>\n",
       "      <td>-5.2416</td>\n",
       "    </tr>\n",
       "  </tbody>\n",
       "</table>\n",
       "</div>"
      ],
      "text/plain": [
       "           Ship Mode Customer ID   Customer Name      Segment        Country  \\\n",
       "3405  Standard Class    LB-16795  Laurel Beltran  Home Office  United States   \n",
       "3407  Standard Class    LB-16795  Laurel Beltran  Home Office  United States   \n",
       "\n",
       "          City State  Postal Code Region       Product ID         Category  \\\n",
       "3405  Columbus  Ohio        43229   East  FUR-CH-10002965        Furniture   \n",
       "3407  Columbus  Ohio        43229   East  OFF-BI-10000145  Office Supplies   \n",
       "\n",
       "     Sub-Category                                       Product Name    Sales  \\\n",
       "3405       Chairs  Global Leather Highback Executive Chair with P...  281.372   \n",
       "3407      Binders                         Zipper Ring Binder Pockets    7.488   \n",
       "\n",
       "      Quantity  Discount   Profit  \n",
       "3405         2       0.3 -12.0588  \n",
       "3407         8       0.7  -5.2416  "
      ]
     },
     "execution_count": 10,
     "metadata": {},
     "output_type": "execute_result"
    }
   ],
   "source": [
    "df.loc[3405:3407]"
   ]
  },
  {
   "cell_type": "markdown",
   "id": "45b4b9bb",
   "metadata": {},
   "source": [
    "so the duplicated data has been removed\n"
   ]
  },
  {
   "cell_type": "code",
   "execution_count": 11,
   "id": "22dae9cb",
   "metadata": {},
   "outputs": [
    {
     "name": "stdout",
     "output_type": "stream",
     "text": [
      "['Second Class' 'Standard Class' 'First Class' 'Same Day']\n"
     ]
    }
   ],
   "source": [
    "print(df['Ship Mode'].unique())"
   ]
  },
  {
   "cell_type": "markdown",
   "id": "2d621567",
   "metadata": {},
   "source": [
    "## Analyzing the ship modes\n",
    "4 shipping modes\n"
   ]
  },
  {
   "cell_type": "code",
   "execution_count": 12,
   "id": "dfb79a38",
   "metadata": {},
   "outputs": [
    {
     "data": {
      "text/plain": [
       "Text(0.5, 1.0, 'Ship Modes and sale in MIllion $')"
      ]
     },
     "execution_count": 12,
     "metadata": {},
     "output_type": "execute_result"
    },
    {
     "data": {
      "image/png": "[encoded data removed]",
      "text/plain": [
       "<Figure size 600x500 with 1 Axes>"
      ]
     },
     "metadata": {},
     "output_type": "display_data"
    }
   ],
   "source": [
    "fig,ax=plt.subplots(figsize=(6,5))\n",
    "df.groupby('Ship Mode').Sales.sum().sort_values(ascending=False).plot.barh(width=.5)\n",
    "\n",
    "#removing structural elements to improve redability\n",
    "\n",
    "# placing x ticks to the top\n",
    "ax.xaxis.tick_top() \n",
    "\n",
    "# removing ticks in the left side\n",
    "ax.tick_params(left=False) \n",
    "\n",
    "#removing the y label\n",
    "plt.ylabel('')\n",
    "\n",
    "#Removing all boarders\n",
    "for location in [ 'left','right','bottom','top']:\n",
    "    ax.spines[location].set_visible(False)\n",
    "\n",
    "#Setting title\n",
    "plt.title('Ship Modes and sale in MIllion $',size=10,weight='bold')"
   ]
  },
  {
   "cell_type": "code",
   "execution_count": 13,
   "id": "fb384e1b",
   "metadata": {},
   "outputs": [
    {
     "data": {
      "text/plain": [
       "Text(0.5, 1.0, 'Ship Modes and Total PRofit in MIllion $')"
      ]
     },
     "execution_count": 13,
     "metadata": {},
     "output_type": "execute_result"
    },
    {
     "data": {
      "image/png": "[encoded data removed]",
      "text/plain": [
       "<Figure size 600x500 with 1 Axes>"
      ]
     },
     "metadata": {},
     "output_type": "display_data"
    }
   ],
   "source": [
    "fig,ax=plt.subplots(figsize=(6,5))\n",
    "df.groupby('Ship Mode').Profit.sum().sort_values(ascending=False).plot.barh(width=.5)\n",
    "\n",
    "#removing structural elements to improve redability\n",
    "\n",
    "# placing x ticks to the top\n",
    "ax.xaxis.tick_top() \n",
    "\n",
    "# removing ticks in the left side\n",
    "ax.tick_params(left=False) \n",
    "\n",
    "#removing the y label\n",
    "plt.ylabel('')\n",
    "\n",
    "#Removing all boarders\n",
    "for location in [ 'left','right','bottom','top']:\n",
    "    ax.spines[location].set_visible(False)\n",
    "\n",
    "#Setting title\n",
    "plt.title('Ship Modes and Total PRofit in MIllion $',size=10,weight='bold')"
   ]
  },
  {
   "cell_type": "code",
   "execution_count": 14,
   "id": "4619db37",
   "metadata": {},
   "outputs": [
    {
     "data": {
      "text/plain": [
       "Text(0.5, 1.0, 'Ship Modes and Quantity $')"
      ]
     },
     "execution_count": 14,
     "metadata": {},
     "output_type": "execute_result"
    },
    {
     "data": {
      "image/png": "[encoded data removed]",
      "text/plain": [
       "<Figure size 600x500 with 1 Axes>"
      ]
     },
     "metadata": {},
     "output_type": "display_data"
    }
   ],
   "source": [
    "fig,ax=plt.subplots(figsize=(6,5))\n",
    "df.groupby('Ship Mode').Quantity.sum().sort_values(ascending=False).plot.barh(width=.5)\n",
    "\n",
    "#removing structural elements to improve redability\n",
    "\n",
    "# placing x ticks to the top\n",
    "ax.xaxis.tick_top() \n",
    "\n",
    "# removing ticks in the left side\n",
    "ax.tick_params(left=False) \n",
    "\n",
    "#removing the y label\n",
    "plt.ylabel('')\n",
    "\n",
    "#Removing all boarders\n",
    "for location in [ 'left','right','bottom','top']:\n",
    "    ax.spines[location].set_visible(False)\n",
    "\n",
    "#Setting title\n",
    "plt.title('Ship Modes and Quantity $',size=10,weight='bold')"
   ]
  },
  {
   "cell_type": "code",
   "execution_count": 15,
   "id": "172337a0",
   "metadata": {},
   "outputs": [
    {
     "data": {
      "text/plain": [
       "Text(0.5, 1.0, 'Ship Modes and Average Discount')"
      ]
     },
     "execution_count": 15,
     "metadata": {},
     "output_type": "execute_result"
    },
    {
     "data": {
      "image/png": "[encoded data removed]",
      "text/plain": [
       "<Figure size 600x500 with 1 Axes>"
      ]
     },
     "metadata": {},
     "output_type": "display_data"
    }
   ],
   "source": [
    "fig,ax=plt.subplots(figsize=(6,5))\n",
    "df.groupby('Ship Mode').Discount.mean().sort_values(ascending=False).plot.barh(width=.4)\n",
    "\n",
    "#removing structural elements to improve redability\n",
    "\n",
    "# placing x ticks to the top\n",
    "ax.xaxis.tick_top() \n",
    "\n",
    "# removing ticks in the left side\n",
    "ax.tick_params(left=False) \n",
    "\n",
    "#removing the y label\n",
    "plt.ylabel('')\n",
    "\n",
    "#Removing all boarders\n",
    "for location in [ 'left','right','bottom','top']:\n",
    "    ax.spines[location].set_visible(False)\n",
    "\n",
    "#Setting title\n",
    "plt.title('Ship Modes and Average Discount',size=10,weight='bold')"
   ]
  },
  {
   "cell_type": "markdown",
   "id": "c16fd58c",
   "metadata": {},
   "source": [
    "So the findings is standars class is more profitable eventhought on average fist class ship mode get more discount"
   ]
  },
  {
   "cell_type": "markdown",
   "id": "4a048b25",
   "metadata": {},
   "source": [
    "## Analyzing Segments\n"
   ]
  },
  {
   "cell_type": "code",
   "execution_count": 16,
   "id": "d0f82f48",
   "metadata": {},
   "outputs": [
    {
     "name": "stdout",
     "output_type": "stream",
     "text": [
      "['Consumer' 'Corporate' 'Home Office']\n"
     ]
    }
   ],
   "source": [
    "print(df['Segment'].unique())"
   ]
  },
  {
   "cell_type": "code",
   "execution_count": 17,
   "id": "50e231a3",
   "metadata": {},
   "outputs": [
    {
     "data": {
      "text/plain": [
       "Text(0.5, 1.0, 'segment and Total sales in million $')"
      ]
     },
     "execution_count": 17,
     "metadata": {},
     "output_type": "execute_result"
    },
    {
     "data": {
      "image/png": "[encoded data removed]",
      "text/plain": [
       "<Figure size 600x500 with 1 Axes>"
      ]
     },
     "metadata": {},
     "output_type": "display_data"
    }
   ],
   "source": [
    "fig,ax=plt.subplots(figsize=(6,5))\n",
    "df.groupby('Segment').Sales.sum().sort_values(ascending=False).plot.barh(width=.4)\n",
    "\n",
    "#removing structural elements to improve redability\n",
    "\n",
    "# placing x ticks to the top\n",
    "ax.xaxis.tick_top() \n",
    "\n",
    "# removing ticks in the left side\n",
    "ax.tick_params(left=False) \n",
    "\n",
    "#removing the y label\n",
    "plt.ylabel('')\n",
    "\n",
    "#Removing all boarders\n",
    "for location in [ 'left','right','bottom','top']:\n",
    "    ax.spines[location].set_visible(False)\n",
    "\n",
    "#Setting title\n",
    "plt.title('segment and Total sales in million $',size=10,weight='bold')"
   ]
  },
  {
   "cell_type": "code",
   "execution_count": 18,
   "id": "736fb030",
   "metadata": {},
   "outputs": [
    {
     "data": {
      "text/plain": [
       "Text(0.5, 1.0, 'segment and Total profit in million $')"
      ]
     },
     "execution_count": 18,
     "metadata": {},
     "output_type": "execute_result"
    },
    {
     "data": {
      "image/png": "[encoded data removed]",
      "text/plain": [
       "<Figure size 600x500 with 1 Axes>"
      ]
     },
     "metadata": {},
     "output_type": "display_data"
    }
   ],
   "source": [
    "fig,ax=plt.subplots(figsize=(6,5))\n",
    "df.groupby('Segment').Profit.sum().sort_values(ascending=False).plot.barh(width=.4)\n",
    "\n",
    "#removing structural elements to improve redability\n",
    "\n",
    "# placing x ticks to the top\n",
    "ax.xaxis.tick_top() \n",
    "\n",
    "# removing ticks in the left side\n",
    "ax.tick_params(left=False) \n",
    "\n",
    "#removing the y label\n",
    "plt.ylabel('')\n",
    "\n",
    "#Removing all boarders\n",
    "for location in [ 'left','right','bottom','top']:\n",
    "    ax.spines[location].set_visible(False)\n",
    "\n",
    "#Setting title\n",
    "plt.title('segment and Total profit in million $',size=10,weight='bold')"
   ]
  },
  {
   "cell_type": "code",
   "execution_count": 19,
   "id": "0b753430",
   "metadata": {},
   "outputs": [
    {
     "data": {
      "text/plain": [
       "Text(0.5, 1.0, 'segment and Total Quantity')"
      ]
     },
     "execution_count": 19,
     "metadata": {},
     "output_type": "execute_result"
    },
    {
     "data": {
      "image/png": "[encoded data removed]",
      "text/plain": [
       "<Figure size 600x500 with 1 Axes>"
      ]
     },
     "metadata": {},
     "output_type": "display_data"
    }
   ],
   "source": [
    "fig,ax=plt.subplots(figsize=(6,5))\n",
    "df.groupby('Segment').Quantity.sum().sort_values(ascending=False).plot.barh(width=.4)\n",
    "\n",
    "#removing structural elements to improve redability\n",
    "\n",
    "# placing x ticks to the top\n",
    "ax.xaxis.tick_top() \n",
    "\n",
    "# removing ticks in the left side\n",
    "ax.tick_params(left=False) \n",
    "\n",
    "#removing the y label\n",
    "plt.ylabel('')\n",
    "\n",
    "#Removing all boarders\n",
    "for location in [ 'left','right','bottom','top']:\n",
    "    ax.spines[location].set_visible(False)\n",
    "\n",
    "#Setting title\n",
    "plt.title('segment and Total Quantity',size=10,weight='bold')"
   ]
  },
  {
   "cell_type": "code",
   "execution_count": 20,
   "id": "7a24d849",
   "metadata": {},
   "outputs": [
    {
     "data": {
      "text/plain": [
       "Text(0.5, 1.0, 'segment and Total Discount')"
      ]
     },
     "execution_count": 20,
     "metadata": {},
     "output_type": "execute_result"
    },
    {
     "data": {
      "image/png": "[encoded data removed]",
      "text/plain": [
       "<Figure size 600x500 with 1 Axes>"
      ]
     },
     "metadata": {},
     "output_type": "display_data"
    }
   ],
   "source": [
    "fig,ax=plt.subplots(figsize=(6,5))\n",
    "df.groupby('Segment').Discount.mean().sort_values(ascending=False).plot.barh(width=.4)\n",
    "\n",
    "#removing structural elements to improve redability\n",
    "\n",
    "# placing x ticks to the top\n",
    "ax.xaxis.tick_top() \n",
    "\n",
    "# removing ticks in the left side\n",
    "ax.tick_params(left=False) \n",
    "\n",
    "#removing the y label\n",
    "plt.ylabel('')\n",
    "\n",
    "#Removing all boarders\n",
    "for location in [ 'left','right','bottom','top']:\n",
    "    ax.spines[location].set_visible(False)\n",
    "\n",
    "#Setting title\n",
    "plt.title('segment and Total Discount',size=10,weight='bold')"
   ]
  },
  {
   "cell_type": "markdown",
   "id": "bda69feb",
   "metadata": {},
   "source": [
    "Customer segment is more profitable on average corporate segment gets same discount as customer\n"
   ]
  },
  {
   "cell_type": "markdown",
   "id": "ab35c283",
   "metadata": {},
   "source": [
    "## Analyzing Categories"
   ]
  },
  {
   "cell_type": "code",
   "execution_count": 21,
   "id": "011618eb",
   "metadata": {},
   "outputs": [
    {
     "name": "stdout",
     "output_type": "stream",
     "text": [
      "['Furniture' 'Office Supplies' 'Technology']\n"
     ]
    }
   ],
   "source": [
    "print(df['Category'].unique())"
   ]
  },
  {
   "cell_type": "code",
   "execution_count": 22,
   "id": "d49f1cbe",
   "metadata": {},
   "outputs": [
    {
     "data": {
      "text/plain": [
       "Text(0.5, 1.0, 'Category and Total Sales in Million')"
      ]
     },
     "execution_count": 22,
     "metadata": {},
     "output_type": "execute_result"
    },
    {
     "data": {
      "image/png": "[encoded data removed]",
      "text/plain": [
       "<Figure size 600x500 with 1 Axes>"
      ]
     },
     "metadata": {},
     "output_type": "display_data"
    }
   ],
   "source": [
    "fig,ax=plt.subplots(figsize=(6,5))\n",
    "df.groupby('Category').Sales.sum().sort_values(ascending=False).plot.barh(width=.4)\n",
    "\n",
    "#removing structural elements to improve redability\n",
    "\n",
    "# placing x ticks to the top\n",
    "ax.xaxis.tick_top() \n",
    "\n",
    "# removing ticks in the left side\n",
    "ax.tick_params(left=False) \n",
    "\n",
    "#removing the y label\n",
    "plt.ylabel('')\n",
    "\n",
    "#Removing all boarders\n",
    "for location in [ 'left','right','bottom','top']:\n",
    "    ax.spines[location].set_visible(False)\n",
    "\n",
    "#Setting title\n",
    "plt.title('Category and Total Sales in Million',size=10,weight='bold')"
   ]
  },
  {
   "cell_type": "code",
   "execution_count": 23,
   "id": "1c2d8880",
   "metadata": {},
   "outputs": [
    {
     "data": {
      "text/plain": [
       "Text(0.5, 1.0, 'Category and Total Profit')"
      ]
     },
     "execution_count": 23,
     "metadata": {},
     "output_type": "execute_result"
    },
    {
     "data": {
      "image/png": "[encoded data removed]",
      "text/plain": [
       "<Figure size 600x500 with 1 Axes>"
      ]
     },
     "metadata": {},
     "output_type": "display_data"
    }
   ],
   "source": [
    "fig,ax=plt.subplots(figsize=(6,5))\n",
    "df.groupby('Category').Profit.sum().sort_values(ascending=False).plot.barh(width=.4)\n",
    "\n",
    "#removing structural elements to improve redability\n",
    "\n",
    "# placing x ticks to the top\n",
    "ax.xaxis.tick_top() \n",
    "\n",
    "# removing ticks in the left side\n",
    "ax.tick_params(left=False) \n",
    "\n",
    "#removing the y label\n",
    "plt.ylabel('')\n",
    "\n",
    "#Removing all boarders\n",
    "for location in [ 'left','right','bottom','top']:\n",
    "    ax.spines[location].set_visible(False)\n",
    "\n",
    "#Setting title\n",
    "plt.title('Category and Total Profit',size=10,weight='bold')"
   ]
  },
  {
   "cell_type": "code",
   "execution_count": 24,
   "id": "c57ef1cb",
   "metadata": {},
   "outputs": [
    {
     "data": {
      "text/plain": [
       "Text(0.5, 1.0, 'Profit and sale Category')"
      ]
     },
     "execution_count": 24,
     "metadata": {},
     "output_type": "execute_result"
    },
    {
     "data": {
      "image/png": "[encoded data removed]",
      "text/plain": [
       "<Figure size 640x480 with 1 Axes>"
      ]
     },
     "metadata": {},
     "output_type": "display_data"
    }
   ],
   "source": [
    "fig,ax=plt.subplots()\n",
    "Category=['Furniture','Office Supplies','Technology']\n",
    "ypos=np.arange(len(Category))\n",
    "plt.yticks(ypos,Category)\n",
    "plt.barh(ypos-.2,df.groupby('Category').Profit.sum(),height=.4,label='Profit')\n",
    "plt.barh(ypos+.2,df.groupby('Category').Profit.sum(),height=.4,label='Profit')\n",
    "plt.legend()\n",
    "\n",
    "#removing structural elements to improve redability\n",
    "\n",
    "# placing x ticks to the top\n",
    "ax.xaxis.tick_top() \n",
    "\n",
    "# removing ticks in the left side\n",
    "ax.tick_params(left=False) \n",
    "\n",
    "#removing the y label\n",
    "plt.ylabel('')\n",
    "\n",
    "#Removing all boarders\n",
    "for location in [ 'left','right','bottom','top']:\n",
    "    ax.spines[location].set_visible(False)\n",
    "\n",
    "#Setting title\n",
    "plt.title('Profit and sale Category',size=10,weight='bold')"
   ]
  },
  {
   "cell_type": "markdown",
   "id": "74a088a2",
   "metadata": {},
   "source": [
    "#### This code is using the `matplotlib` library in Python to create a horizontal bar plot comparing the total profit for different categories of items. Let's break down the code step by step:\n",
    "\n",
    "1. `fig, ax = plt.subplots()`: This line creates a new figure (`fig`) and axes (`ax`) for plotting. The `plt.subplots()` function is called without any arguments, which results in the default dimensions for the figure and axes.\n",
    "\n",
    "2. `Category = ['Furniture', 'Office Supplies', 'Technology']`: This line defines a list named `Category` that contains the three categories of items for which the total profit will be compared.\n",
    "\n",
    "3. `ypos = np.arange(len(Category))`: This line creates an array `ypos` using NumPy's `arange()` function, which will be used to set the positions of the bars on the y-axis. The length of the `ypos` array will be equal to the number of categories (3 in this case).\n",
    "\n",
    "4. `plt.yticks(ypos, Category)`: This line sets the y-axis ticks to custom labels provided in the `Category` list. It labels the y-axis with the category names 'Furniture', 'Office Supplies', and 'Technology'.\n",
    "\n",
    "5. `plt.barh(ypos - 0.2, df.groupby('Category').Profit.sum(), height=0.4, label='Profit')`: This line creates the horizontal bar plot for the 'Profit' data. The `barh()` function is used to create the horizontal bars. \n",
    "   - `ypos - 0.2`: This adjusts the y-position of the bars slightly to the left. It is done to create a small gap between the bars for better visualization.\n",
    "   - `df.groupby('Category').Profit.sum()`: This part groups the DataFrame 'df' by the 'Category' column and calculates the total profit for each category using the `sum()` function.\n",
    "   - `height=0.4`: This sets the height of each bar.\n",
    "   - `label='Profit'`: This sets the label for the bars, which will be used later for the legend.\n",
    "\n",
    "6. `plt.barh(ypos + 0.2, df.groupby('Category').Profit.sum(), height=0.4, label='Profit')`: This line is identical to the previous one, but it creates a second set of horizontal bars with the same 'Profit' data. The only difference is that the bars are slightly moved to the right (0.2) compared to the previous set.\n",
    "\n",
    "7. `plt.legend()`: This line adds a legend to the plot to label the two sets of bars. The label 'Profit' provided in the `label` argument of the `barh()` function will be displayed in the legend.\n",
    "\n",
    "After running this code, you will have a horizontal bar plot with two sets of bars for each category ('Furniture', 'Office Supplies', 'Technology'). Each set represents the total profit for that category. The legend will indicate which set of bars corresponds to the 'Profit' data."
   ]
  },
  {
   "cell_type": "code",
   "execution_count": 25,
   "id": "7ea35cdf",
   "metadata": {},
   "outputs": [
    {
     "data": {
      "text/plain": [
       "Text(0.5, 1.0, 'Category and Total Quantity')"
      ]
     },
     "execution_count": 25,
     "metadata": {},
     "output_type": "execute_result"
    },
    {
     "data": {
      "image/png": "[encoded data removed]",
      "text/plain": [
       "<Figure size 600x500 with 1 Axes>"
      ]
     },
     "metadata": {},
     "output_type": "display_data"
    }
   ],
   "source": [
    "fig,ax=plt.subplots(figsize=(6,5))\n",
    "df.groupby('Category').Quantity.sum().sort_values(ascending=False).plot.barh(width=.4)\n",
    "\n",
    "#removing structural elements to improve redability\n",
    "\n",
    "# placing x ticks to the top\n",
    "ax.xaxis.tick_top() \n",
    "\n",
    "# removing ticks in the left side\n",
    "ax.tick_params(left=False) \n",
    "\n",
    "#removing the y label\n",
    "plt.ylabel('')\n",
    "\n",
    "#Removing all boarders\n",
    "for location in [ 'left','right','bottom','top']:\n",
    "    ax.spines[location].set_visible(False)\n",
    "\n",
    "#Setting title\n",
    "plt.title('Category and Total Quantity',size=10,weight='bold')"
   ]
  },
  {
   "cell_type": "code",
   "execution_count": 26,
   "id": "dbfd9560",
   "metadata": {},
   "outputs": [
    {
     "data": {
      "text/plain": [
       "Text(0.5, 1.0, 'Category and Average Discount')"
      ]
     },
     "execution_count": 26,
     "metadata": {},
     "output_type": "execute_result"
    },
    {
     "data": {
      "image/png": "[encoded data removed]",
      "text/plain": [
       "<Figure size 600x500 with 1 Axes>"
      ]
     },
     "metadata": {},
     "output_type": "display_data"
    }
   ],
   "source": [
    "fig,ax=plt.subplots(figsize=(6,5))\n",
    "df.groupby('Category').Discount.mean().sort_values(ascending=False).plot.barh(width=.4)\n",
    "\n",
    "#removing structural elements to improve redability\n",
    "\n",
    "# placing x ticks to the top\n",
    "ax.xaxis.tick_top() \n",
    "\n",
    "# removing ticks in the left side\n",
    "ax.tick_params(left=False) \n",
    "\n",
    "#removing the y label\n",
    "plt.ylabel('')\n",
    "\n",
    "#Removing all boarders\n",
    "for location in [ 'left','right','bottom','top']:\n",
    "    ax.spines[location].set_visible(False)\n",
    "\n",
    "#Setting title\n",
    "plt.title('Category and Average Discount',size=10,weight='bold')"
   ]
  },
  {
   "cell_type": "markdown",
   "id": "59a6bddc",
   "metadata": {},
   "source": [
    "1. Technology Category has highest sale and profit.\n",
    "2. Eventhough Furniture Category has more sales than Office Supplies, Office Supplies produces significantly large profit than Furniture.\n",
    "3. Total Quantity of Office Supplies is the highest and Technology is the lowest, but Technology is more profitable.\n",
    "4. Furniture gets more discount on average followed by Office Supplies and Technology but, distribution of profit is in the reverse order\n",
    "\n"
   ]
  },
  {
   "cell_type": "markdown",
   "id": "a3ad6255",
   "metadata": {},
   "source": [
    "## Analyzing the Sub Categories "
   ]
  },
  {
   "cell_type": "code",
   "execution_count": 27,
   "id": "354e5b4b",
   "metadata": {},
   "outputs": [
    {
     "name": "stdout",
     "output_type": "stream",
     "text": [
      "['Bookcases' 'Chairs' 'Labels' 'Tables' 'Storage' 'Furnishings' 'Art'\n",
      " 'Phones' 'Binders' 'Appliances' 'Paper' 'Accessories' 'Envelopes'\n",
      " 'Fasteners' 'Supplies' 'Machines' 'Copiers']\n"
     ]
    }
   ],
   "source": [
    "print(df['Sub-Category'].unique())"
   ]
  },
  {
   "cell_type": "code",
   "execution_count": 28,
   "id": "8ae855bc",
   "metadata": {},
   "outputs": [
    {
     "data": {
      "text/plain": [
       "Text(0.5, 1.0, 'Category and total Sales')"
      ]
     },
     "execution_count": 28,
     "metadata": {},
     "output_type": "execute_result"
    },
    {
     "data": {
      "image/png": "[encoded data removed]",
      "text/plain": [
       "<Figure size 600x500 with 1 Axes>"
      ]
     },
     "metadata": {},
     "output_type": "display_data"
    }
   ],
   "source": [
    "fig,ax=plt.subplots(figsize=(6,5))\n",
    "df.groupby('Sub-Category').Sales.sum().sort_values(ascending=False).plot.barh(width=.4)\n",
    "\n",
    "#removing structural elements to improve redability\n",
    "\n",
    "# placing x ticks to the top\n",
    "ax.xaxis.tick_top() \n",
    "\n",
    "# removing ticks in the left side\n",
    "ax.tick_params(left=False) \n",
    "\n",
    "#removing the y label\n",
    "plt.ylabel('')\n",
    "\n",
    "#Vertical line at 15000\n",
    "ax.axvline(x=150000,c='grey',alpha=0.5)\n",
    "\n",
    "#Removing all boarders\n",
    "for location in [ 'left','right','bottom','top']:\n",
    "    ax.spines[location].set_visible(False)\n",
    "\n",
    "#Setting title\n",
    "plt.title('Category and total Sales',size=10,weight='bold')"
   ]
  },
  {
   "cell_type": "code",
   "execution_count": 29,
   "id": "d1689ea3",
   "metadata": {},
   "outputs": [
    {
     "data": {
      "text/plain": [
       "Text(0.5, 1.0, 'Category and total Sales')"
      ]
     },
     "execution_count": 29,
     "metadata": {},
     "output_type": "execute_result"
    },
    {
     "data": {
      "image/png": "[encoded data removed]",
      "text/plain": [
       "<Figure size 600x500 with 1 Axes>"
      ]
     },
     "metadata": {},
     "output_type": "display_data"
    }
   ],
   "source": [
    "fig,ax=plt.subplots(figsize=(6,5))\n",
    "df.groupby('Sub-Category').Profit.sum().sort_values(ascending=False).plot.barh(width=.4)\n",
    "\n",
    "#removing structural elements to improve redability\n",
    "\n",
    "# placing x ticks to the top\n",
    "ax.xaxis.tick_top() \n",
    "\n",
    "# removing ticks in the left side\n",
    "ax.tick_params(left=False) \n",
    "\n",
    "#removing the y label\n",
    "plt.ylabel('')\n",
    "\n",
    "#Vertical line at 15000\n",
    "#ax.axvline(x=150000,c='grey',alpha=0.5)\n",
    "\n",
    "#Removing all boarders\n",
    "for location in [ 'left','right','bottom','top']:\n",
    "    ax.spines[location].set_visible(False)\n",
    "\n",
    "#Setting title\n",
    "plt.title('Category and total Sales',size=10,weight='bold')"
   ]
  },
  {
   "cell_type": "markdown",
   "id": "06fef8d8",
   "metadata": {},
   "source": [
    "#### Total loss made by each sub categories"
   ]
  },
  {
   "cell_type": "code",
   "execution_count": 30,
   "id": "f6881d65",
   "metadata": {},
   "outputs": [
    {
     "name": "stderr",
     "output_type": "stream",
     "text": [
      "C:\\Users\\Sayed Al Rafi\\AppData\\Local\\Temp\\ipykernel_54204\\2007535134.py:1: FutureWarning: The default value of numeric_only in DataFrameGroupBy.sum is deprecated. In a future version, numeric_only will default to False. Either specify numeric_only or select only columns which should be valid for the function.\n",
      "  df[df['Profit']< 0].groupby('Sub-Category').sum().sort_values(by='Profit')['Profit']\n"
     ]
    },
    {
     "data": {
      "text/plain": [
       "Sub-Category\n",
       "Binders       -38510.4964\n",
       "Tables        -32412.1483\n",
       "Machines      -30118.6682\n",
       "Bookcases     -12152.2060\n",
       "Chairs         -9868.7825\n",
       "Appliances     -8629.6412\n",
       "Phones         -7530.6235\n",
       "Furnishings    -6490.9134\n",
       "Storage        -6426.3038\n",
       "Supplies       -3015.6219\n",
       "Accessories     -930.6265\n",
       "Fasteners        -33.1952\n",
       "Name: Profit, dtype: float64"
      ]
     },
     "execution_count": 30,
     "metadata": {},
     "output_type": "execute_result"
    }
   ],
   "source": [
    "df[df['Profit']< 0].groupby('Sub-Category').sum().sort_values(by='Profit')['Profit']"
   ]
  },
  {
   "cell_type": "markdown",
   "id": "cddd2f71",
   "metadata": {},
   "source": [
    "#### Sub Category item with maximum Average Discount"
   ]
  },
  {
   "cell_type": "code",
   "execution_count": 31,
   "id": "45510414",
   "metadata": {
    "scrolled": true
   },
   "outputs": [
    {
     "data": {
      "text/plain": [
       "Sub-Category\n",
       "Binders        0.372292\n",
       "Machines       0.306087\n",
       "Tables         0.261285\n",
       "Bookcases      0.211140\n",
       "Chairs         0.169968\n",
       "Appliances     0.166524\n",
       "Copiers        0.161765\n",
       "Phones         0.154556\n",
       "Furnishings    0.138349\n",
       "Fasteners      0.082028\n",
       "Envelopes      0.080315\n",
       "Accessories    0.078452\n",
       "Supplies       0.076842\n",
       "Paper          0.074891\n",
       "Art            0.074874\n",
       "Storage        0.074704\n",
       "Labels         0.068681\n",
       "Name: Discount, dtype: float64"
      ]
     },
     "execution_count": 31,
     "metadata": {},
     "output_type": "execute_result"
    }
   ],
   "source": [
    "df.groupby('Sub-Category').Discount.mean().sort_values(ascending=False)"
   ]
  },
  {
   "cell_type": "markdown",
   "id": "d12472f9",
   "metadata": {},
   "source": [
    "1. On average, Binders gets highest discont followed by Machines, Tables and Bookcases.\n",
    "2. Tables, Bookcases, Supplies are not profitable.\n",
    "3. Eventhough Binders Sub-Category made 38510.4964$ loss, it is net profitable.\n",
    "4. Eventhough Total sale of Copiers are around average, they are the most profitable Sub-Category."
   ]
  },
  {
   "cell_type": "markdown",
   "id": "c3d200a9",
   "metadata": {},
   "source": [
    "## Analizing Discounts"
   ]
  },
  {
   "cell_type": "code",
   "execution_count": 32,
   "id": "52395a1b",
   "metadata": {},
   "outputs": [
    {
     "data": {
      "text/plain": [
       "Text(0.5, 1.0, 'Discount and Total Quantity')"
      ]
     },
     "execution_count": 32,
     "metadata": {},
     "output_type": "execute_result"
    },
    {
     "data": {
      "image/png": "[encoded data removed]",
      "text/plain": [
       "<Figure size 600x500 with 1 Axes>"
      ]
     },
     "metadata": {},
     "output_type": "display_data"
    }
   ],
   "source": [
    "fig,ax=plt.subplots(figsize=(6,5))\n",
    "df.groupby('Discount').Quantity.sum().sort_values(ascending=False).plot.barh(width=.4)\n",
    "\n",
    "#removing structural elements to improve redability\n",
    "\n",
    "# placing x ticks to the top\n",
    "ax.xaxis.tick_top() \n",
    "\n",
    "# removing ticks in the left side\n",
    "ax.tick_params(left=False) \n",
    "\n",
    "#removing the y label\n",
    "plt.ylabel('')\n",
    "\n",
    "#Removing all boarders\n",
    "for location in [ 'left','right','bottom','top']:\n",
    "    ax.spines[location].set_visible(False)\n",
    "\n",
    "#Setting title\n",
    "plt.title('Discount and Total Quantity',size=10,weight='bold')"
   ]
  },
  {
   "cell_type": "code",
   "execution_count": 33,
   "id": "334e0a1c",
   "metadata": {},
   "outputs": [
    {
     "data": {
      "text/plain": [
       "Text(0.5, 1.0, 'Discount and Total Sales')"
      ]
     },
     "execution_count": 33,
     "metadata": {},
     "output_type": "execute_result"
    },
    {
     "data": {
      "image/png": "[encoded data removed]",
      "text/plain": [
       "<Figure size 600x500 with 1 Axes>"
      ]
     },
     "metadata": {},
     "output_type": "display_data"
    }
   ],
   "source": [
    "\n",
    "fig,ax=plt.subplots(figsize=(6,5))\n",
    "df.groupby('Discount').Sales.sum().sort_values(ascending=False).plot.barh(width=.4)\n",
    "\n",
    "#removing structural elements to improve redability\n",
    "\n",
    "# placing x ticks to the top\n",
    "ax.xaxis.tick_top() \n",
    "\n",
    "# removing ticks in the left side\n",
    "ax.tick_params(left=False) \n",
    "\n",
    "#removing the y label\n",
    "plt.ylabel('')\n",
    "\n",
    "#Removing all boarders\n",
    "for location in [ 'left','right','bottom','top']:\n",
    "    ax.spines[location].set_visible(False)\n",
    "\n",
    "#Setting title\n",
    "plt.title('Discount and Total Sales',size=10,weight='bold')"
   ]
  },
  {
   "cell_type": "code",
   "execution_count": 34,
   "id": "8edc83e5",
   "metadata": {},
   "outputs": [
    {
     "data": {
      "text/plain": [
       "Text(0.5, 1.0, 'Discount and Total Profit')"
      ]
     },
     "execution_count": 34,
     "metadata": {},
     "output_type": "execute_result"
    },
    {
     "data": {
      "image/png": "[encoded data removed]",
      "text/plain": [
       "<Figure size 600x500 with 1 Axes>"
      ]
     },
     "metadata": {},
     "output_type": "display_data"
    }
   ],
   "source": [
    "fig,ax=plt.subplots(figsize=(6,5))\n",
    "df.groupby('Discount').Profit.sum().sort_values(ascending=False).plot.barh(width=.4)\n",
    "\n",
    "#removing structural elements to improve redability\n",
    "\n",
    "# placing x ticks to the top\n",
    "ax.xaxis.tick_top() \n",
    "\n",
    "# removing ticks in the left side\n",
    "ax.tick_params(left=False) \n",
    "\n",
    "#removing the y label\n",
    "plt.ylabel('')\n",
    "\n",
    "#Removing all boarders\n",
    "for location in [ 'left','right','bottom','top']:\n",
    "    ax.spines[location].set_visible(False)\n",
    "\n",
    "#Setting title\n",
    "plt.title('Discount and Total Profit',size=10,weight='bold')"
   ]
  },
  {
   "cell_type": "markdown",
   "id": "65575acf",
   "metadata": {},
   "source": [
    "## Products with Maximum Average Discount"
   ]
  },
  {
   "cell_type": "code",
   "execution_count": 35,
   "id": "392d44df",
   "metadata": {},
   "outputs": [
    {
     "data": {
      "text/plain": [
       "Product Name\n",
       "Eureka Disposable Bags for Sanitaire Vibra Groomer I Upright Vac                       0.800000\n",
       "GBC Plasticlear Binding Covers                                                         0.728571\n",
       "GBC VeloBinder Electric Binding Machine                                                0.725000\n",
       "Hewlett-Packard Deskjet F4180 All-in-One Color Ink-jet - Printer / copier / scanner    0.700000\n",
       "Cisco 8961 IP Phone Charcoal                                                           0.700000\n",
       "Epson Perfection V600 Photo Scanner                                                    0.700000\n",
       "Lexmark MarkNet N8150 Wireless Print Server                                            0.700000\n",
       "Brother MFC-9340CDW LED All-In-One Printer, Copier Scanner                             0.700000\n",
       "Bush Westfield Collection Bookcases, Dark Cherry Finish, Fully Assembled               0.700000\n",
       "Zebra GK420t Direct Thermal/Thermal Transfer Printer                                   0.700000\n",
       "Name: Discount, dtype: float64"
      ]
     },
     "execution_count": 35,
     "metadata": {},
     "output_type": "execute_result"
    }
   ],
   "source": [
    "df.groupby('Product Name').Discount.mean().sort_values(ascending=False).head(10)"
   ]
  },
  {
   "cell_type": "markdown",
   "id": "9be88d1d",
   "metadata": {},
   "source": [
    "#### Products with highest Discount"
   ]
  },
  {
   "cell_type": "code",
   "execution_count": 36,
   "id": "812c9d94",
   "metadata": {},
   "outputs": [
    {
     "data": {
      "text/plain": [
       "Product Name\n",
       "Insertable Tab Post Binder Dividers                                                      0.8\n",
       "Fellowes 8 Outlet Superior Workstation Surge Protector w/o Phone/Fax/Modem Protection    0.8\n",
       "GBC DocuBind P400 Electric Binding System                                                0.8\n",
       "GBC DocuBind 300 Electric Binding Machine                                                0.8\n",
       "GBC Clear Cover, 8-1/2 x 11, unpunched, 25 covers per pack                               0.8\n",
       "Flexible Leather- Look Classic Collection Ring Binder                                    0.8\n",
       "Fellowes Twister Kit, Gray/Clear, 3/pkg                                                  0.8\n",
       "Fellowes Superior 10 Outlet Split Surge Protector                                        0.8\n",
       "Fellowes Presentation Covers for Comb Binding Machines                                   0.8\n",
       "Fellowes PB500 Electric Punch Plastic Comb Binding Machine with Manual Bind              0.8\n",
       "Name: Discount, dtype: float64"
      ]
     },
     "execution_count": 36,
     "metadata": {},
     "output_type": "execute_result"
    }
   ],
   "source": [
    "df.groupby('Product Name').Discount.max().sort_values(ascending=False).head(10)"
   ]
  },
  {
   "cell_type": "markdown",
   "id": "992cf3c0",
   "metadata": {},
   "source": [
    "1. Most products received 0 or 0.2 discount.\n",
    "2. Products with Discounts more than 0.2 are not profitable.\n",
    "3. Many products received upto 0.8 dicount.\n",
    "\n"
   ]
  },
  {
   "cell_type": "markdown",
   "id": "6c43b410",
   "metadata": {},
   "source": [
    "## Analyzing Products"
   ]
  },
  {
   "cell_type": "markdown",
   "id": "01d1333c",
   "metadata": {},
   "source": [
    "#### Top 10 profitable products"
   ]
  },
  {
   "cell_type": "code",
   "execution_count": 37,
   "id": "df6ab205",
   "metadata": {},
   "outputs": [
    {
     "data": {
      "text/plain": [
       "Product Name\n",
       "Canon imageCLASS 2200 Advanced Copier                                          25199.9280\n",
       "Fellowes PB500 Electric Punch Plastic Comb Binding Machine with Manual Bind     7753.0390\n",
       "Hewlett Packard LaserJet 3310 Copier                                            6983.8836\n",
       "Canon PC1060 Personal Laser Copier                                              4570.9347\n",
       "HP Designjet T520 Inkjet Large Format Printer - 24\" Color                       4094.9766\n",
       "Ativa V4110MDD Micro-Cut Shredder                                               3772.9461\n",
       "3D Systems Cube Printer, 2nd Generation, Magenta                                3717.9714\n",
       "Plantronics Savi W720 Multi-Device Wireless Headset System                      3696.2820\n",
       "Ibico EPK-21 Electric Binding System                                            3345.2823\n",
       "Zebra ZM400 Thermal Label Printer                                               3343.5360\n",
       "Name: Profit, dtype: float64"
      ]
     },
     "execution_count": 37,
     "metadata": {},
     "output_type": "execute_result"
    }
   ],
   "source": [
    "df.groupby('Product Name').Profit.sum().sort_values(ascending=False).head(10)"
   ]
  },
  {
   "cell_type": "markdown",
   "id": "e56ed898",
   "metadata": {},
   "source": [
    "#### Top 10 less profitable products"
   ]
  },
  {
   "cell_type": "code",
   "execution_count": 38,
   "id": "a376dadb",
   "metadata": {},
   "outputs": [
    {
     "data": {
      "text/plain": [
       "Product Name\n",
       "Cubify CubeX 3D Printer Double Head Print                           -8879.9704\n",
       "Lexmark MX611dhe Monochrome Laser Printer                           -4589.9730\n",
       "Cubify CubeX 3D Printer Triple Head Print                           -3839.9904\n",
       "Chromcraft Bull-Nose Wood Oval Conference Tables & Bases            -2876.1156\n",
       "Bush Advantage Collection Racetrack Conference Table                -1934.3976\n",
       "GBC DocuBind P400 Electric Binding System                           -1878.1662\n",
       "Cisco TelePresence System EX90 Videoconferencing Unit               -1811.0784\n",
       "Martin Yale Chadless Opener Electric Letter Opener                  -1299.1836\n",
       "Balt Solid Wood Round Tables                                        -1201.0581\n",
       "BoxOffice By Design Rectangular and Half-Moon Meeting Room Tables   -1148.4375\n",
       "Name: Profit, dtype: float64"
      ]
     },
     "execution_count": 38,
     "metadata": {},
     "output_type": "execute_result"
    }
   ],
   "source": [
    "df.groupby('Product Name').Profit.sum().sort_values(ascending=True).head(10)"
   ]
  },
  {
   "cell_type": "markdown",
   "id": "28d344c5",
   "metadata": {},
   "source": [
    "#### Total loss made by each product"
   ]
  },
  {
   "cell_type": "code",
   "execution_count": 39,
   "id": "9d23659f",
   "metadata": {},
   "outputs": [
    {
     "name": "stderr",
     "output_type": "stream",
     "text": [
      "C:\\Users\\Sayed Al Rafi\\AppData\\Local\\Temp\\ipykernel_54204\\3639589694.py:1: FutureWarning: The default value of numeric_only in DataFrameGroupBy.sum is deprecated. In a future version, numeric_only will default to False. Either specify numeric_only or select only columns which should be valid for the function.\n",
      "  df[df['Profit']< 0].groupby('Product Name').sum().sort_values(by='Profit')['Profit'].head(10)\n"
     ]
    },
    {
     "data": {
      "text/plain": [
       "Product Name\n",
       "Cubify CubeX 3D Printer Double Head Print                                     -9239.9692\n",
       "GBC DocuBind P400 Electric Binding System                                     -6859.3896\n",
       "Lexmark MX611dhe Monochrome Laser Printer                                     -5269.9690\n",
       "GBC Ibimaster 500 Manual ProClick Binding System                              -5098.5660\n",
       "GBC DocuBind TL300 Electric Binding System                                    -4162.0336\n",
       "Cubify CubeX 3D Printer Triple Head Print                                     -3839.9904\n",
       "Fellowes PB500 Electric Punch Plastic Comb Binding Machine with Manual Bind   -3431.6730\n",
       "Chromcraft Bull-Nose Wood Oval Conference Tables & Bases                      -3107.5272\n",
       "Ibico EPK-21 Electric Binding System                                          -2929.4845\n",
       "Bush Advantage Collection Racetrack Conference Table                          -2545.2600\n",
       "Name: Profit, dtype: float64"
      ]
     },
     "execution_count": 39,
     "metadata": {},
     "output_type": "execute_result"
    }
   ],
   "source": [
    "df[df['Profit']< 0].groupby('Product Name').sum().sort_values(by='Profit')['Profit'].head(10)"
   ]
  },
  {
   "cell_type": "markdown",
   "id": "19591973",
   "metadata": {},
   "source": [
    "## Analyzing Customer\n"
   ]
  },
  {
   "cell_type": "code",
   "execution_count": 40,
   "id": "3852fc1c",
   "metadata": {},
   "outputs": [
    {
     "data": {
      "text/plain": [
       "Customer Name\n",
       "Sean Miller           25043.050\n",
       "Tamara Chand          19052.218\n",
       "Raymond Buch          15117.339\n",
       "Tom Ashbrook          14595.620\n",
       "Adrian Barton         14473.571\n",
       "Ken Lonsdale          14175.229\n",
       "Sanjit Chand          14142.334\n",
       "Hunter Lopez          12873.298\n",
       "Sanjit Engle          12209.438\n",
       "Christopher Conant    12129.072\n",
       "Name: Sales, dtype: float64"
      ]
     },
     "execution_count": 40,
     "metadata": {},
     "output_type": "execute_result"
    }
   ],
   "source": [
    "df.groupby('Customer Name').Sales.sum().sort_values(ascending=False).head(10)"
   ]
  },
  {
   "cell_type": "markdown",
   "id": "9288c724",
   "metadata": {},
   "source": [
    "## Top Ten Customers By Profit "
   ]
  },
  {
   "cell_type": "code",
   "execution_count": 41,
   "id": "8f8dd0bd",
   "metadata": {},
   "outputs": [
    {
     "data": {
      "text/plain": [
       "Customer Name\n",
       "Tamara Chand            8981.3239\n",
       "Raymond Buch            6976.0959\n",
       "Sanjit Chand            5757.4119\n",
       "Hunter Lopez            5622.4292\n",
       "Adrian Barton           5444.8055\n",
       "Tom Ashbrook            4703.7883\n",
       "Christopher Martinez    3899.8904\n",
       "Keith Dawkins           3038.6254\n",
       "Andy Reiter             2884.6208\n",
       "Daniel Raglin           2869.0760\n",
       "Name: Profit, dtype: float64"
      ]
     },
     "execution_count": 41,
     "metadata": {},
     "output_type": "execute_result"
    }
   ],
   "source": [
    "df.groupby('Customer Name').Profit.sum().sort_values(ascending=False).head(10)"
   ]
  },
  {
   "cell_type": "markdown",
   "id": "8a575767",
   "metadata": {},
   "source": [
    "#### Conclusion"
   ]
  },
  {
   "cell_type": "markdown",
   "id": "5458b822",
   "metadata": {},
   "source": [
    "1. Standard Class Ship Mode is more profitable eventhough on average first class ship mode gets more discont.\n",
    "\n",
    "2. Consumer Segment is more profitable but on averge Corporate Segment gets same discount as Consumer\n",
    "\n",
    "3. Technology Category has highest sale and profit.\n",
    "\n",
    "4. Eventhough Furniture Category has more sales than Office Supplies, Office Supplies produces significantly large profit than Furniture.\n",
    "Total Quantity of Office Supplies is the highest and Technology is the lowest, but Technology is more profitable.\n",
    "Furniture gets more discount on average followed by Office Supplies and Technology but, distribution of profit is in the reverse order\n",
    "\n",
    "On average, Binders gets highest discont followed by Machines, Tables and Bookcases.\n",
    "\n",
    "Tables, Bookcases, Supplies are not profitable.\n",
    "Eventhough Binders Sub-Category made 38510.4964$ loss, it is net profitable.\n",
    "Eventhough Total sale of Copiers are around average, they are the most profitable Sub-Category.\n",
    "\n",
    "Most products received 0 or 0.2 discount.\n",
    "\n",
    "Products with Discounts more than 0.2 are not profitable.\n",
    "Many products received upto 0.8 dicount."
   ]
  }
 ],
 "metadata": {
  "kernelspec": {
   "display_name": "Python 3 (ipykernel)",
   "language": "python",
   "name": "python3"
  },
  "language_info": {
   "codemirror_mode": {
    "name": "ipython",
    "version": 3
   },
   "file_extension": ".py",
   "mimetype": "text/x-python",
   "name": "python",
   "nbconvert_exporter": "python",
   "pygments_lexer": "ipython3",
   "version": "3.10.9"
  }
 },
 "nbformat": 4,
 "nbformat_minor": 5
}
